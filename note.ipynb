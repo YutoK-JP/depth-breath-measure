{
 "cells": [
  {
   "cell_type": "code",
   "execution_count": null,
   "metadata": {},
   "outputs": [],
   "source": [
    "from util import kinect as util_kine\n",
    "import math\n",
    "import time\n",
    "from pykinect_azure import Transformation\n",
    "from pykinect_azure import K4A_CALIBRATION_TYPE_COLOR, K4A_CALIBRATION_TYPE_DEPTH, k4a_float2_t\n",
    "import matplotlib.pyplot as plt\n",
    "import numpy as np"
   ]
  },
  {
   "cell_type": "code",
   "execution_count": null,
   "metadata": {},
   "outputs": [],
   "source": [
    "kinect = util_kine.Kinect()"
   ]
  },
  {
   "cell_type": "code",
   "execution_count": null,
   "metadata": {},
   "outputs": [],
   "source": [
    "def quat2eulers(q0:float, q1:float, q2:float, q3:float) -> tuple:\n",
    "    roll = math.atan2(\n",
    "        2 * ((q2 * q3) + (q0 * q1)),\n",
    "        q0**2 - q1**2 - q2**2 + q3**2\n",
    "    )  # radians\n",
    "    pitch = math.asin(2 * ((q1 * q3) - (q0 * q2)))\n",
    "    yaw = math.atan2(\n",
    "        2 * ((q1 * q2) + (q0 * q3)),\n",
    "        q0**2 + q1**2 - q2**2 - q3**2\n",
    "    )\n",
    "    return (roll, pitch, yaw)\n",
    "\n",
    "class Observer:\n",
    "  def __init__(self, kinect=None):\n",
    "    if kinect is None:\n",
    "      self.kinect = util_kine.Kinect()\n",
    "    else:\n",
    "      self.kinect = kinect\n",
    "    \n",
    "    self.info=None\n",
    "    \n",
    "  def update(self):\n",
    "    self.kinect.update()\n",
    "    neck, pelvis = self.kinect.neck, self.kinect.pelvis\n",
    "    \n",
    "    neck_pos, neck_ori = neck[:3], neck[3:7]\n",
    "    pelvis_pos, pelvis_ori = pelvis[:3], pelvis[3:7]\n",
    "    \n",
    "    spine_vec = neck_pos - pelvis_pos\n",
    "    self.slope = spine_vec[1]/spine_vec[0]\n",
    "    yaw_pelvis = quat2eulers(*pelvis_ori)[0]\n",
    "    yaw_neck = quat2eulers(*neck_ori)[0]\n",
    "    \n",
    "    self.yaw_torso = (yaw_pelvis+yaw_neck)/2\n",
    "  \n",
    "obs = Observer(kinect)\n"
   ]
  },
  {
   "cell_type": "code",
   "execution_count": null,
   "metadata": {},
   "outputs": [],
   "source": [
    "obs.update()\n",
    "\n",
    "joints2d = obs.kinect.joints2d()\n",
    "roll, pitch, yaw = quat2eulers(*obs.kinect.neck[3:7])\n",
    "\n",
    "print(obs.kinect.neck)\n",
    "print(f\"\"\"\n",
    "position: {obs.kinect.neck[:3]}\n",
    "position_2d: {joints2d[\"neck\"]}\n",
    "orientation: {obs.kinect.neck[3:7]}\n",
    "roll, pitch, yaw: {roll, pitch, yaw}\n",
    "confidence_level: {obs.kinect.neck[-1]}\n",
    "\"\"\")\n"
   ]
  },
  {
   "cell_type": "code",
   "execution_count": null,
   "metadata": {},
   "outputs": [],
   "source": [
    "obs.update()\n",
    "depth_width, depth_height = obs.kinect.depth_img.shape\n",
    "XGRID, YGRID = np.meshgrid(np.arange(depth_width), np.arange(depth_height))\n",
    "\n",
    "gradation_hor = XGRID + obs.slope*YGRID\n",
    "\n",
    "\"\"\"\n",
    "p_ret, p_cloud = obs.kinect.capture.get_pointcloud()\n",
    "\n",
    "p_norm = np.linalg.norm(p_cloud, axis=1)\n",
    "p_cloud=p_cloud[p_norm>0.]\n",
    "print(p_cloud.shape)\n",
    "X = p_cloud[:,0]\n",
    "print(X.min(), X.max())\"\"\"\n",
    "\n",
    "print()\n",
    "#print(gradation_hor)\n",
    "#plt.imshow(gradation_hor)"
   ]
  },
  {
   "cell_type": "code",
   "execution_count": null,
   "metadata": {},
   "outputs": [],
   "source": [
    "start = time.time()\n",
    "while time.time() - start<10:\n",
    "  obs.update()\n",
    "  print(f\"\\r{obs.yaw_torso/math.pi}\", end=\"\")"
   ]
  }
 ],
 "metadata": {
  "kernelspec": {
   "display_name": "depth-breath",
   "language": "python",
   "name": "python3"
  },
  "language_info": {
   "codemirror_mode": {
    "name": "ipython",
    "version": 3
   },
   "file_extension": ".py",
   "mimetype": "text/x-python",
   "name": "python",
   "nbconvert_exporter": "python",
   "pygments_lexer": "ipython3",
   "version": "3.12.3"
  }
 },
 "nbformat": 4,
 "nbformat_minor": 2
}
