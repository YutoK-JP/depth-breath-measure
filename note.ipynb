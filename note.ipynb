{
 "cells": [
  {
   "cell_type": "code",
   "execution_count": 1,
   "metadata": {},
   "outputs": [],
   "source": [
    "from util import kinect as util_kine"
   ]
  },
  {
   "cell_type": "code",
   "execution_count": 2,
   "metadata": {},
   "outputs": [],
   "source": [
    "kinect = util_kine.Kinect()"
   ]
  },
  {
   "cell_type": "code",
   "execution_count": 18,
   "metadata": {},
   "outputs": [],
   "source": [
    "class Observer:\n",
    "  def __init__(self, kinect=None):\n",
    "    if kinect is None:\n",
    "      self.kinect = util_kine.Kinect()\n",
    "    else:\n",
    "      self.kinect = kinect\n",
    "    \n",
    "    self.info=None\n",
    "    \n",
    "  def update(self):\n",
    "    self.kinect.update()\n",
    "    neck = self.kinect.neck\n",
    "    pelvis = self.kinect.pelvis\n",
    "    neck_pos, neck_ori = neck[:3], neck[3:7]\n",
    "    pelvis_pos, pelvis_ori = pelvis[:3], pelvis[3:7]\n",
    "    self.info = [neck_pos, neck_ori, pelvis_pos, pelvis_ori]\n",
    "  \n",
    "obs = Observer(kinect)\n",
    "obs.update()"
   ]
  },
  {
   "cell_type": "code",
   "execution_count": 19,
   "metadata": {},
   "outputs": [
    {
     "data": {
      "text/plain": [
       "[array([  51.3979187 , -163.1138916 ,  620.94781494]),\n",
       " array([ 0.48431221, -0.48904461,  0.69947863, -0.1923712 ]),\n",
       " array([ 15.43410683, 320.1913147 , 716.68218994]),\n",
       " array([-0.44024831,  0.59820777, -0.56589472,  0.35789925])]"
      ]
     },
     "execution_count": 19,
     "metadata": {},
     "output_type": "execute_result"
    }
   ],
   "source": [
    "obs.info"
   ]
  }
 ],
 "metadata": {
  "kernelspec": {
   "display_name": "depth-breath",
   "language": "python",
   "name": "python3"
  },
  "language_info": {
   "codemirror_mode": {
    "name": "ipython",
    "version": 3
   },
   "file_extension": ".py",
   "mimetype": "text/x-python",
   "name": "python",
   "nbconvert_exporter": "python",
   "pygments_lexer": "ipython3",
   "version": "3.11.9"
  }
 },
 "nbformat": 4,
 "nbformat_minor": 2
}
