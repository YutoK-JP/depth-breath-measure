{
 "cells": [
  {
   "cell_type": "code",
   "execution_count": 1,
   "metadata": {},
   "outputs": [],
   "source": [
    "import winreg"
   ]
  },
  {
   "cell_type": "code",
   "execution_count": 4,
   "metadata": {},
   "outputs": [],
   "source": [
    "path = r'Software\\Fatal Fire Studio\\FAP N.A.F. ARCADE MODE'\n"
   ]
  },
  {
   "cell_type": "code",
   "execution_count": 7,
   "metadata": {},
   "outputs": [
    {
     "ename": "PermissionError",
     "evalue": "[WinError 5] アクセスが拒否されました。",
     "output_type": "error",
     "traceback": [
      "\u001b[1;31m---------------------------------------------------------------------------\u001b[0m",
      "\u001b[1;31mPermissionError\u001b[0m                           Traceback (most recent call last)",
      "Cell \u001b[1;32mIn[7], line 2\u001b[0m\n\u001b[0;32m      1\u001b[0m key \u001b[38;5;241m=\u001b[39m winreg\u001b[38;5;241m.\u001b[39mOpenKeyEx(winreg\u001b[38;5;241m.\u001b[39mHKEY_CURRENT_USER, path, access\u001b[38;5;241m=\u001b[39mwinreg\u001b[38;5;241m.\u001b[39mKEY_WRITE)\n\u001b[1;32m----> 2\u001b[0m data, regtype \u001b[38;5;241m=\u001b[39m \u001b[43mwinreg\u001b[49m\u001b[38;5;241;43m.\u001b[39;49m\u001b[43mQueryValueEx\u001b[49m\u001b[43m(\u001b[49m\u001b[43mkey\u001b[49m\u001b[43m,\u001b[49m\u001b[43m \u001b[49m\u001b[38;5;124;43m'\u001b[39;49m\u001b[38;5;124;43mescenaCHIKUsex1_h691101913\u001b[39;49m\u001b[38;5;124;43m'\u001b[39;49m\u001b[43m)\u001b[49m\n\u001b[0;32m      4\u001b[0m winreg\u001b[38;5;241m.\u001b[39mSetValueEx(key, \u001b[38;5;124m'\u001b[39m\u001b[38;5;124mescenaCHIKU_pete1_h2614555820\u001b[39m\u001b[38;5;124m'\u001b[39m, \u001b[38;5;241m1\u001b[39m, winreg\u001b[38;5;241m.\u001b[39mREG_DWORD, \u001b[38;5;124m'\u001b[39m\u001b[38;5;124mC:\u001b[39m\u001b[38;5;124m\\\u001b[39m\u001b[38;5;124mProgram Files\u001b[39m\u001b[38;5;124m'\u001b[39m)\n\u001b[0;32m      5\u001b[0m winreg\u001b[38;5;241m.\u001b[39mCloseKey(key)\n",
      "\u001b[1;31mPermissionError\u001b[0m: [WinError 5] アクセスが拒否されました。"
     ]
    }
   ],
   "source": [
    "key = winreg.OpenKeyEx(winreg.HKEY_CURRENT_USER, path, access=winreg.KEY_WRITE)\n",
    "data, regtype = winreg.QueryValueEx(key, 'escenaCHIKUsex1_h691101913')\n",
    "\n",
    "winreg.SetValueEx(key, 'escenaCHIKU_pete1_h2614555820', 1, winreg.REG_DWORD, 'C:\\Program Files')\n",
    "winreg.CloseKey(key)"
   ]
  }
 ],
 "metadata": {
  "kernelspec": {
   "display_name": "base",
   "language": "python",
   "name": "python3"
  },
  "language_info": {
   "codemirror_mode": {
    "name": "ipython",
    "version": 3
   },
   "file_extension": ".py",
   "mimetype": "text/x-python",
   "name": "python",
   "nbconvert_exporter": "python",
   "pygments_lexer": "ipython3",
   "version": "3.11.7"
  }
 },
 "nbformat": 4,
 "nbformat_minor": 2
}
